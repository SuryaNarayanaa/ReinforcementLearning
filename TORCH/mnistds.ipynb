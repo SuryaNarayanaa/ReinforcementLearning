{
 "cells": [
  {
   "cell_type": "code",
   "execution_count": 69,
   "metadata": {},
   "outputs": [],
   "source": [
    "import torch\n",
    "import torchvision\n",
    "from torchvision.datasets import MNIST\n",
    "import numpy as np\n",
    "import matplotlib.pyplot as plt\n",
    "%matplotlib inline"
   ]
  },
  {
   "cell_type": "code",
   "execution_count": 70,
   "metadata": {},
   "outputs": [
    {
     "data": {
      "text/plain": [
       "Dataset MNIST\n",
       "    Number of datapoints: 60000\n",
       "    Root location: D:\\Learning\\ML\\RL\\TORCH\\mnist_data\n",
       "    Split: Train"
      ]
     },
     "execution_count": 70,
     "metadata": {},
     "output_type": "execute_result"
    }
   ],
   "source": [
    "\n",
    "# Load the dataset\n",
    "dataset = MNIST(root = \"D:\\Learning\\ML\\RL\\TORCH\\mnist_data\", download= True )\n",
    "# Access the first image and label\n",
    "dataset"
   ]
  },
  {
   "cell_type": "code",
   "execution_count": 71,
   "metadata": {},
   "outputs": [
    {
     "data": {
      "image/png": "[encoded data removed]",
      "text/plain": [
       "<Figure size 640x480 with 1 Axes>"
      ]
     },
     "metadata": {},
     "output_type": "display_data"
    }
   ],
   "source": [
    "image, label = (dataset[1230])\n",
    "\n",
    "# Print the type and shape of the image and label\n",
    "plt.imshow(image, cmap= \"gray\")\n",
    "plt.show()\n",
    "\n"
   ]
  },
  {
   "cell_type": "code",
   "execution_count": 72,
   "metadata": {},
   "outputs": [
    {
     "data": {
      "text/plain": [
       "10000"
      ]
     },
     "execution_count": 72,
     "metadata": {},
     "output_type": "execute_result"
    }
   ],
   "source": [
    "test_dataset  = MNIST(root=\"D:\\Learning\\ML\\RL\\TORCH\\mnist_data\" , train=False)\n",
    "len(test_dataset)"
   ]
  },
  {
   "cell_type": "code",
   "execution_count": 73,
   "metadata": {},
   "outputs": [],
   "source": [
    "import torchvision.transforms as transforms"
   ]
  },
  {
   "cell_type": "code",
   "execution_count": 74,
   "metadata": {},
   "outputs": [
    {
     "name": "stdout",
     "output_type": "stream",
     "text": [
      "torch.Size([1, 28, 28]) 5\n"
     ]
    }
   ],
   "source": [
    "dataset =  MNIST(root=\"D:\\Learning\\ML\\RL\\TORCH\\mnist_data\" , download=False , transform= transforms.ToTensor())\n",
    "image_tensor , label  = dataset[0]\n",
    "print(image_tensor.shape ,label)"
   ]
  },
  {
   "cell_type": "code",
   "execution_count": 75,
   "metadata": {},
   "outputs": [
    {
     "data": {
      "text/plain": [
       "(50000, 10000)"
      ]
     },
     "execution_count": 75,
     "metadata": {},
     "output_type": "execute_result"
    }
   ],
   "source": [
    "from torch.utils.data import random_split\n",
    "train_ds , val_ds = random_split(dataset , [50000, 10000])\n",
    "len(train_ds), len(val_ds)"
   ]
  },
  {
   "cell_type": "code",
   "execution_count": 76,
   "metadata": {},
   "outputs": [],
   "source": [
    "from torch.utils.data import DataLoader\n",
    "batch_size  = 128\n",
    "train_loader = DataLoader(train_ds , batch_size , shuffle=True)\n",
    "val_loader = DataLoader(val_ds , batch_size)"
   ]
  },
  {
   "cell_type": "code",
   "execution_count": 77,
   "metadata": {},
   "outputs": [],
   "source": [
    "import torch.nn as nn\n",
    "input_size = 28*28\n",
    "num_classes = 10\n",
    "model = nn.Linear(input_size , num_classes)\n"
   ]
  },
  {
   "cell_type": "code",
   "execution_count": 78,
   "metadata": {},
   "outputs": [
    {
     "name": "stdout",
     "output_type": "stream",
     "text": [
      "tensor([7, 1, 2, 3, 5, 8, 9, 8, 1, 7, 2, 0, 7, 2, 3, 1, 0, 6, 7, 0, 6, 3, 0, 3,\n",
      "        4, 0, 3, 7, 8, 3, 8, 3, 8, 4, 6, 3, 9, 8, 0, 4, 4, 7, 7, 2, 3, 3, 0, 9,\n",
      "        7, 8, 8, 7, 0, 5, 4, 5, 5, 4, 9, 6, 6, 9, 7, 5, 7, 2, 2, 0, 5, 7, 2, 1,\n",
      "        0, 6, 5, 0, 3, 3, 4, 0, 3, 6, 6, 5, 2, 0, 3, 2, 6, 9, 6, 6, 7, 9, 0, 7,\n",
      "        3, 1, 3, 7, 1, 3, 7, 0, 9, 9, 1, 9, 4, 7, 7, 0, 8, 2, 7, 1, 7, 9, 5, 3,\n",
      "        1, 4, 8, 5, 4, 4, 1, 9])\n",
      "\n",
      "tensor([-0.2117, -0.0930,  0.3150, -0.0158, -0.1103,  0.1911,  0.0708,  0.0377,\n",
      "        -0.0420, -0.2160], grad_fn=<SelectBackward0>)\n"
     ]
    }
   ],
   "source": [
    "for images, label in train_loader:\n",
    "    print(label)\n",
    "    print()\n",
    "    outputs = model(images.reshape(128,28*28))\n",
    "    print(outputs[0])\n",
    "    break"
   ]
  },
  {
   "cell_type": "code",
   "execution_count": 79,
   "metadata": {},
   "outputs": [
    {
     "data": {
      "text/plain": [
       "torch.Size([128, 784])"
      ]
     },
     "execution_count": 79,
     "metadata": {},
     "output_type": "execute_result"
    }
   ],
   "source": [
    "images.reshape(128 , 28*28).shape"
   ]
  },
  {
   "cell_type": "code",
   "execution_count": 80,
   "metadata": {},
   "outputs": [],
   "source": [
    "class MnistModel(nn.Module):\n",
    "    def __init__(self):\n",
    "        super().__init__()\n",
    "        self.linear = nn.Linear(input_size, num_classes)\n",
    "\n",
    "    def forward (self , xb):\n",
    "        xb = xb.reshape(-1, 784)\n",
    "        out  = self.linear(xb)\n",
    "        return out\n",
    "\n",
    "\n",
    "model = MnistModel()"
   ]
  },
  {
   "cell_type": "code",
   "execution_count": 81,
   "metadata": {},
   "outputs": [
    {
     "data": {
      "text/plain": [
       "[Parameter containing:\n",
       " tensor([[ 0.0278, -0.0321,  0.0144,  ...,  0.0273,  0.0186, -0.0103],\n",
       "         [-0.0234,  0.0022, -0.0259,  ...,  0.0339, -0.0323,  0.0084],\n",
       "         [-0.0160, -0.0301,  0.0140,  ..., -0.0325,  0.0270,  0.0067],\n",
       "         ...,\n",
       "         [-0.0324,  0.0274, -0.0130,  ...,  0.0334,  0.0322, -0.0320],\n",
       "         [ 0.0344, -0.0326,  0.0139,  ..., -0.0142, -0.0037,  0.0327],\n",
       "         [ 0.0266, -0.0188,  0.0186,  ...,  0.0255,  0.0188,  0.0017]],\n",
       "        requires_grad=True),\n",
       " Parameter containing:\n",
       " tensor([ 0.0133,  0.0278, -0.0070, -0.0237,  0.0078,  0.0221,  0.0250,  0.0305,\n",
       "         -0.0219,  0.0227], requires_grad=True)]"
      ]
     },
     "execution_count": 81,
     "metadata": {},
     "output_type": "execute_result"
    }
   ],
   "source": [
    "list(model.parameters())"
   ]
  },
  {
   "cell_type": "code",
   "execution_count": 82,
   "metadata": {},
   "outputs": [
    {
     "name": "stdout",
     "output_type": "stream",
     "text": [
      "tensor([7, 1, 6, 7, 1, 9, 2, 6, 2, 2, 8, 3, 2, 6, 7, 4, 8, 8, 3, 5, 7, 3, 3, 4,\n",
      "        7, 5, 3, 0, 0, 3, 9, 8, 3, 6, 6, 3, 4, 1, 0, 4, 7, 3, 1, 2, 2, 7, 5, 7,\n",
      "        4, 2, 6, 3, 5, 4, 1, 9, 6, 3, 3, 0, 5, 9, 4, 4, 3, 5, 1, 2, 2, 8, 7, 6,\n",
      "        5, 1, 1, 9, 3, 7, 9, 3, 0, 6, 4, 1, 1, 7, 8, 7, 9, 2, 5, 8, 1, 4, 1, 8,\n",
      "        3, 5, 5, 4, 7, 5, 2, 3, 4, 1, 8, 7, 7, 7, 5, 1, 1, 9, 3, 1, 8, 8, 5, 6,\n",
      "        0, 7, 6, 2, 0, 2, 8, 4])\n",
      "torch.Size([128, 10])\n"
     ]
    },
    {
     "data": {
      "text/plain": [
       "tensor([[-0.1422, -0.0240, -0.2231,  0.2308,  0.0977, -0.2406, -0.4199, -0.1370,\n",
       "         -0.1156, -0.0935],\n",
       "        [-0.3570,  0.1663, -0.0893, -0.0443, -0.1385,  0.0117, -0.2496,  0.0425,\n",
       "          0.1367,  0.0629]])"
      ]
     },
     "execution_count": 82,
     "metadata": {},
     "output_type": "execute_result"
    }
   ],
   "source": [
    "for images, labels in  train_loader:\n",
    "    print(labels)\n",
    "    op = model(images)\n",
    "    break\n",
    "print(op.shape)\n",
    "op[:2].data"
   ]
  },
  {
   "cell_type": "code",
   "execution_count": 83,
   "metadata": {},
   "outputs": [
    {
     "data": {
      "text/plain": [
       "tensor(1.0000, grad_fn=<SumBackward0>)"
      ]
     },
     "execution_count": 83,
     "metadata": {},
     "output_type": "execute_result"
    }
   ],
   "source": [
    "import torch.nn.functional as F\n",
    "probs = F.softmax(op , dim=1)\n",
    "probs[:2]\n",
    "torch.sum(probs[0])"
   ]
  },
  {
   "cell_type": "code",
   "execution_count": 84,
   "metadata": {},
   "outputs": [
    {
     "data": {
      "text/plain": [
       "torch.return_types.max(\n",
       "values=tensor([0.1381, 0.1221, 0.1351, 0.1622, 0.1205, 0.1224, 0.1283, 0.1256, 0.1110,\n",
       "        0.1225, 0.1244, 0.1281, 0.1260, 0.1446, 0.1342, 0.1222, 0.1600, 0.1301,\n",
       "        0.1362, 0.1283, 0.1136, 0.1335, 0.1292, 0.1326, 0.1261, 0.1324, 0.1164,\n",
       "        0.1361, 0.1206, 0.1430, 0.1187, 0.1296, 0.1260, 0.1209, 0.1190, 0.1188,\n",
       "        0.1196, 0.1224, 0.1174, 0.1149, 0.1298, 0.1168, 0.1156, 0.1197, 0.1155,\n",
       "        0.1152, 0.1291, 0.1286, 0.1407, 0.1151, 0.1337, 0.1425, 0.1387, 0.1322,\n",
       "        0.1271, 0.1320, 0.1403, 0.1393, 0.1341, 0.1296, 0.1255, 0.1277, 0.1493,\n",
       "        0.1300, 0.1336, 0.1295, 0.1228, 0.1238, 0.1199, 0.1305, 0.1309, 0.1395,\n",
       "        0.1324, 0.1257, 0.1219, 0.1320, 0.1545, 0.1269, 0.1386, 0.1239, 0.1244,\n",
       "        0.1455, 0.1331, 0.1299, 0.1216, 0.1356, 0.1319, 0.1265, 0.1177, 0.1357,\n",
       "        0.1285, 0.1346, 0.1180, 0.1304, 0.1303, 0.1429, 0.1624, 0.1334, 0.1431,\n",
       "        0.1273, 0.1199, 0.1380, 0.1286, 0.1385, 0.1240, 0.1233, 0.1213, 0.1339,\n",
       "        0.1143, 0.1300, 0.1254, 0.1234, 0.1194, 0.1310, 0.1287, 0.1304, 0.1520,\n",
       "        0.1747, 0.1522, 0.1210, 0.1262, 0.1203, 0.1270, 0.1335, 0.1238, 0.1232,\n",
       "        0.1407, 0.1160], grad_fn=<MaxBackward0>),\n",
       "indices=tensor([3, 1, 8, 3, 1, 8, 1, 3, 9, 9, 1, 1, 8, 8, 9, 1, 8, 8, 8, 1, 8, 8, 1, 8,\n",
       "        9, 8, 8, 1, 4, 3, 5, 8, 1, 8, 8, 1, 8, 1, 8, 8, 9, 1, 1, 1, 1, 7, 3, 8,\n",
       "        8, 9, 8, 1, 1, 8, 1, 1, 8, 8, 8, 5, 1, 5, 8, 8, 8, 1, 1, 7, 8, 7, 9, 8,\n",
       "        7, 1, 1, 3, 1, 8, 8, 5, 7, 1, 3, 1, 1, 7, 1, 9, 3, 1, 1, 7, 7, 8, 1, 8,\n",
       "        1, 8, 1, 8, 9, 1, 1, 3, 3, 9, 3, 8, 9, 7, 8, 1, 1, 1, 3, 1, 8, 8, 8, 9,\n",
       "        1, 8, 4, 3, 5, 1, 4, 5]))"
      ]
     },
     "execution_count": 84,
     "metadata": {},
     "output_type": "execute_result"
    }
   ],
   "source": [
    "max_prob = torch.max(probs,dim=1)\n",
    "max_prob"
   ]
  },
  {
   "cell_type": "code",
   "execution_count": 85,
   "metadata": {},
   "outputs": [],
   "source": [
    "preds,  _ = torch.max(op, dim =1)\n",
    "\n",
    "p = torch.sum(preds == labels).item()\n"
   ]
  },
  {
   "cell_type": "code",
   "execution_count": 201,
   "metadata": {},
   "outputs": [],
   "source": [
    "def accuracy(outputs, labels):\n",
    "    _, preds = torch.max(outputs, dim=1)\n",
    "    return torch.tensor(torch.sum(preds == labels).item() / len(preds))"
   ]
  },
  {
   "cell_type": "code",
   "execution_count": 181,
   "metadata": {},
   "outputs": [
    {
     "name": "stdout",
     "output_type": "stream",
     "text": [
      "tensor(0.1328)\n"
     ]
    }
   ],
   "source": [
    "p = accuracy(outputs, labels)\n",
    "print(p)"
   ]
  },
  {
   "cell_type": "code",
   "execution_count": 182,
   "metadata": {},
   "outputs": [
    {
     "data": {
      "text/plain": [
       "tensor([[-0.2117, -0.0930,  0.3150,  ...,  0.0377, -0.0420, -0.2160],\n",
       "        [-0.0918,  0.0897,  0.1562,  ...,  0.1739,  0.0324, -0.0782],\n",
       "        [-0.3498,  0.1030,  0.4368,  ...,  0.3097,  0.0361, -0.0123],\n",
       "        ...,\n",
       "        [-0.3998,  0.2771,  0.4069,  ...,  0.1783,  0.2117, -0.3082],\n",
       "        [-0.2641, -0.1501,  0.1930,  ...,  0.2486,  0.2850, -0.0411],\n",
       "        [-0.0164, -0.3107,  0.5021,  ...,  0.1286,  0.2370, -0.0828]],\n",
       "       grad_fn=<AddmmBackward0>)"
      ]
     },
     "execution_count": 182,
     "metadata": {},
     "output_type": "execute_result"
    }
   ],
   "source": [
    "torch.sum(probs[18])\n",
    "outputs"
   ]
  },
  {
   "cell_type": "code",
   "execution_count": 183,
   "metadata": {},
   "outputs": [],
   "source": [
    "loss_fn = F.cross_entropy"
   ]
  },
  {
   "cell_type": "code",
   "execution_count": 184,
   "metadata": {},
   "outputs": [
    {
     "data": {
      "text/plain": [
       "tensor(2.2965, grad_fn=<NllLossBackward0>)"
      ]
     },
     "execution_count": 184,
     "metadata": {},
     "output_type": "execute_result"
    }
   ],
   "source": [
    "loss = loss_fn(outputs,labels)\n",
    "loss"
   ]
  },
  {
   "cell_type": "code",
   "execution_count": 185,
   "metadata": {},
   "outputs": [],
   "source": [
    "###params\n",
    "no_epochs = 100"
   ]
  },
  {
   "cell_type": "code",
   "execution_count": 186,
   "metadata": {},
   "outputs": [],
   "source": [
    "def fit(no_epochs,lr, model , train_loader,val_loader,opt_fn = torch.optim.SGD):\n",
    "    optimiser=  opt_fn(model.parameters(),lr)\n",
    "    history = []\n",
    "\n",
    "    for epoch in range(no_epochs):\n",
    "        for batch  in train_loader:\n",
    "            loss = model.training_step(batch)\n",
    "            loss.backward()\n",
    "            optimiser.step()\n",
    "            optimiser.zero_grad()\n",
    "\n",
    "        \n",
    "        result = evaluate(model, val_loader)\n",
    "        model.epoch_end(epoch, result)\n",
    "        history.append(result)\n",
    "        \n",
    "    return history\n",
    "\n"
   ]
  },
  {
   "cell_type": "code",
   "execution_count": 187,
   "metadata": {},
   "outputs": [],
   "source": [
    "def evaluate(model, val_loader):\n",
    "    outputs = [model.validation_step(b) for b in val_loader]\n",
    "    return model.validation_epoch_end(outputs)\n"
   ]
  },
  {
   "cell_type": "code",
   "execution_count": 188,
   "metadata": {},
   "outputs": [],
   "source": [
    "class MnistModel(nn.Module):\n",
    "    def __init__(self) :\n",
    "        super().__init__()\n",
    "        self.linear = nn.Linear(input_size  , num_classes)\n",
    "\n",
    "    def forward(self,xb):\n",
    "        xb = xb.view(-1, 784)\n",
    "        out = self.linear(xb)\n",
    "        return out\n",
    "    \n",
    "    def training_step(self, batch):\n",
    "        images , labels = batch\n",
    "        out = self(images)\n",
    "        loss = F.cross_entropy(out, labels)\n",
    "        return loss\n",
    "    \n",
    "\n",
    "    def validation_step(self, batch):\n",
    "        images, labels =  batch\n",
    "        out = self(images)\n",
    "        loss = F.cross_entropy(out, labels)\n",
    "        acc = accuracy(out, labels)\n",
    "        return{\"VAL_loss\" : loss , \"VAl_acc\" : acc}\n",
    "    \n",
    "\n",
    "    def validation_epoch_end(self, outputs):\n",
    "        batch_losses= [X[\"VAL_loss\"] for X in outputs]\n",
    "        batch_accs=[X[\"VAl_acc\"] for X in outputs] \n",
    "        epoch_loss = torch.stack(batch_losses).mean()\n",
    "        epoch_acc= torch.stack(batch_accs).mean()\n",
    "        return {\"val_loss\"  : epoch_loss.item(),\"val_acc\":epoch_acc.item()  }\n",
    "    \n",
    "\n",
    "    def epoch_end(self,epoch , result):\n",
    "        print(\"Epoch [ {}],val_loss : {:.4f} , val_acc {:.4f}\".format(epoch, result[\"val_loss\"] , result[\"val_acc\"]))\n",
    "        \n",
    "\n",
    "model = MnistModel()\n",
    "    \n",
    "    "
   ]
  },
  {
   "cell_type": "code",
   "execution_count": 189,
   "metadata": {},
   "outputs": [
    {
     "data": {
      "text/plain": [
       "{'val_loss': 2.3177695274353027, 'val_acc': 0.12846122682094574}"
      ]
     },
     "execution_count": 189,
     "metadata": {},
     "output_type": "execute_result"
    }
   ],
   "source": [
    "result0 =evaluate(model,val_loader)\n",
    "result0"
   ]
  },
  {
   "cell_type": "code",
   "execution_count": 190,
   "metadata": {},
   "outputs": [
    {
     "name": "stdout",
     "output_type": "stream",
     "text": [
      "Epoch [ 0],val_loss : 1.9445 , val_acc 0.6258\n",
      "Epoch [ 1],val_loss : 1.6760 , val_acc 0.7300\n",
      "Epoch [ 2],val_loss : 1.4758 , val_acc 0.7638\n",
      "Epoch [ 3],val_loss : 1.3246 , val_acc 0.7839\n",
      "Epoch [ 4],val_loss : 1.2082 , val_acc 0.7979\n"
     ]
    },
    {
     "data": {
      "text/plain": [
       "[{'val_loss': 1.9444975852966309, 'val_acc': 0.6257911324501038},\n",
       " {'val_loss': 1.6760356426239014, 'val_acc': 0.7300237417221069},\n",
       " {'val_loss': 1.4758353233337402, 'val_acc': 0.763844907283783},\n",
       " {'val_loss': 1.3245940208435059, 'val_acc': 0.7839201092720032},\n",
       " {'val_loss': 1.2081921100616455, 'val_acc': 0.7978639006614685}]"
      ]
     },
     "execution_count": 190,
     "metadata": {},
     "output_type": "execute_result"
    }
   ],
   "source": [
    "history1 = fit(5,.001,model,train_loader,val_loader)\n",
    "history1"
   ]
  },
  {
   "cell_type": "code",
   "execution_count": 191,
   "metadata": {},
   "outputs": [
    {
     "name": "stdout",
     "output_type": "stream",
     "text": [
      "Epoch [ 0],val_loss : 1.1981 , val_acc 0.7992\n",
      "Epoch [ 1],val_loss : 1.1881 , val_acc 0.8001\n",
      "Epoch [ 2],val_loss : 1.1785 , val_acc 0.8009\n",
      "Epoch [ 3],val_loss : 1.1690 , val_acc 0.8012\n",
      "Epoch [ 4],val_loss : 1.1598 , val_acc 0.8018\n"
     ]
    },
    {
     "data": {
      "text/plain": [
       "[{'val_loss': 1.1980502605438232, 'val_acc': 0.7992483973503113},\n",
       " {'val_loss': 1.1881471872329712, 'val_acc': 0.8001384735107422},\n",
       " {'val_loss': 1.1784778833389282, 'val_acc': 0.800929605960846},\n",
       " {'val_loss': 1.169032096862793, 'val_acc': 0.8012262582778931},\n",
       " {'val_loss': 1.1598039865493774, 'val_acc': 0.8018196225166321}]"
      ]
     },
     "execution_count": 191,
     "metadata": {},
     "output_type": "execute_result"
    }
   ],
   "source": [
    "history2 = fit(5,.0001,model,train_loader,val_loader)\n",
    "history2"
   ]
  },
  {
   "cell_type": "code",
   "execution_count": 192,
   "metadata": {},
   "outputs": [
    {
     "name": "stdout",
     "output_type": "stream",
     "text": [
      "Epoch [ 0],val_loss : 1.0780 , val_acc 0.8084\n",
      "Epoch [ 1],val_loss : 1.0117 , val_acc 0.8128\n",
      "Epoch [ 2],val_loss : 0.9571 , val_acc 0.8183\n",
      "Epoch [ 3],val_loss : 0.9112 , val_acc 0.8226\n",
      "Epoch [ 4],val_loss : 0.8721 , val_acc 0.8285\n",
      "Epoch [ 5],val_loss : 0.8385 , val_acc 0.8319\n",
      "Epoch [ 6],val_loss : 0.8092 , val_acc 0.8349\n",
      "Epoch [ 7],val_loss : 0.7835 , val_acc 0.8386\n",
      "Epoch [ 8],val_loss : 0.7606 , val_acc 0.8413\n",
      "Epoch [ 9],val_loss : 0.7403 , val_acc 0.8428\n"
     ]
    },
    {
     "data": {
      "text/plain": [
       "[{'val_loss': 1.0779650211334229, 'val_acc': 0.808445394039154},\n",
       " {'val_loss': 1.0117106437683105, 'val_acc': 0.8127966523170471},\n",
       " {'val_loss': 0.9570597410202026, 'val_acc': 0.8183346390724182},\n",
       " {'val_loss': 0.9111980199813843, 'val_acc': 0.8225870132446289},\n",
       " {'val_loss': 0.8720743656158447, 'val_acc': 0.8285205960273743},\n",
       " {'val_loss': 0.838509202003479, 'val_acc': 0.831882894039154},\n",
       " {'val_loss': 0.8092479109764099, 'val_acc': 0.8349485993385315},\n",
       " {'val_loss': 0.7834551930427551, 'val_acc': 0.8386076092720032},\n",
       " {'val_loss': 0.7605922818183899, 'val_acc': 0.8412777185440063},\n",
       " {'val_loss': 0.7402644753456116, 'val_acc': 0.8427610993385315}]"
      ]
     },
     "execution_count": 192,
     "metadata": {},
     "output_type": "execute_result"
    }
   ],
   "source": [
    "history3 = fit(10,.001,model,train_loader,val_loader)\n",
    "history3"
   ]
  },
  {
   "cell_type": "code",
   "execution_count": 193,
   "metadata": {},
   "outputs": [
    {
     "name": "stdout",
     "output_type": "stream",
     "text": [
      "Epoch [ 0],val_loss : 0.7219 , val_acc 0.8452\n",
      "Epoch [ 1],val_loss : 0.7053 , val_acc 0.8462\n",
      "Epoch [ 2],val_loss : 0.6902 , val_acc 0.8493\n",
      "Epoch [ 3],val_loss : 0.6764 , val_acc 0.8505\n",
      "Epoch [ 4],val_loss : 0.6638 , val_acc 0.8521\n",
      "Epoch [ 5],val_loss : 0.6520 , val_acc 0.8544\n",
      "Epoch [ 6],val_loss : 0.6412 , val_acc 0.8552\n",
      "Epoch [ 7],val_loss : 0.6311 , val_acc 0.8556\n",
      "Epoch [ 8],val_loss : 0.6218 , val_acc 0.8563\n",
      "Epoch [ 9],val_loss : 0.6130 , val_acc 0.8578\n"
     ]
    },
    {
     "data": {
      "text/plain": [
       "[{'val_loss': 0.7219221591949463, 'val_acc': 0.8452333807945251},\n",
       " {'val_loss': 0.7052870392799377, 'val_acc': 0.8462222814559937},\n",
       " {'val_loss': 0.6901850700378418, 'val_acc': 0.8492879867553711},\n",
       " {'val_loss': 0.67644202709198, 'val_acc': 0.8504746556282043},\n",
       " {'val_loss': 0.6637731790542603, 'val_acc': 0.8520569801330566},\n",
       " {'val_loss': 0.6520202159881592, 'val_acc': 0.8544303774833679},\n",
       " {'val_loss': 0.6412046551704407, 'val_acc': 0.8552215099334717},\n",
       " {'val_loss': 0.6311386823654175, 'val_acc': 0.855617105960846},\n",
       " {'val_loss': 0.6217899918556213, 'val_acc': 0.8563093543052673},\n",
       " {'val_loss': 0.6130308508872986, 'val_acc': 0.8577927350997925}]"
      ]
     },
     "execution_count": 193,
     "metadata": {},
     "output_type": "execute_result"
    }
   ],
   "source": [
    "history4 = fit(10,.001,model,train_loader,val_loader)\n",
    "history4"
   ]
  },
  {
   "cell_type": "code",
   "execution_count": 194,
   "metadata": {},
   "outputs": [
    {
     "data": {
      "text/plain": [
       "Text(0.5, 1.0, 'EPOCH VS ACC')"
      ]
     },
     "execution_count": 194,
     "metadata": {},
     "output_type": "execute_result"
    },
    {
     "data": {
      "image/png": "[encoded data removed]",
      "text/plain": [
       "<Figure size 640x480 with 1 Axes>"
      ]
     },
     "metadata": {},
     "output_type": "display_data"
    }
   ],
   "source": [
    "history = [result0] + history1+history2+history3+history4\n",
    "accuracy = [result['val_acc'] for result in history]\n",
    "plt.plot(accuracy,'x-')\n",
    "plt.xlabel(\"no_epochs\")\n",
    "plt.ylabel(accuracy)\n",
    "plt.title(\"EPOCH VS ACC\")\n"
   ]
  },
  {
   "cell_type": "code",
   "execution_count": 195,
   "metadata": {},
   "outputs": [],
   "source": [
    "test_dataset =  MNIST(root=\"D:\\Learning\\ML\\RL\\TORCH\\mnist_data\" , download=False , transform= transforms.ToTensor())\n"
   ]
  },
  {
   "cell_type": "code",
   "execution_count": 196,
   "metadata": {},
   "outputs": [],
   "source": [
    "def predict(img , model):\n",
    "    xb = img.unsqueeze(0)\n",
    "    out = model(xb)\n",
    "    confidence , preds = torch.max(out, dim=1)\n",
    "    return preds[0].item(),confidence[0].item()"
   ]
  },
  {
   "cell_type": "code",
   "execution_count": 197,
   "metadata": {},
   "outputs": [
    {
     "name": "stdout",
     "output_type": "stream",
     "text": [
      "torch.Size([1, 28, 28]) 1\n"
     ]
    },
    {
     "data": {
      "text/plain": [
       "(1, 4.283860206604004)"
      ]
     },
     "execution_count": 197,
     "metadata": {},
     "output_type": "execute_result"
    },
    {
     "data": {
      "image/png": "[encoded data removed]",
      "text/plain": [
       "<Figure size 640x480 with 1 Axes>"
      ]
     },
     "metadata": {},
     "output_type": "display_data"
    }
   ],
   "source": [
    "image_tensor , label  = test_dataset[1839]\n",
    "print(image_tensor.shape ,label)\n",
    "plt.imshow(image_tensor.reshape(28,28) , cmap=\"gray\")\n",
    "predict(image_tensor.reshape(28,28), model)"
   ]
  },
  {
   "cell_type": "code",
   "execution_count": 198,
   "metadata": {},
   "outputs": [
    {
     "name": "stdout",
     "output_type": "stream",
     "text": [
      "torch.Size([1, 28, 28]) 6\n"
     ]
    },
    {
     "data": {
      "text/plain": [
       "(6, 4.947579383850098)"
      ]
     },
     "execution_count": 198,
     "metadata": {},
     "output_type": "execute_result"
    },
    {
     "data": {
      "image/png": "[encoded data removed]",
      "text/plain": [
       "<Figure size 640x480 with 1 Axes>"
      ]
     },
     "metadata": {},
     "output_type": "display_data"
    }
   ],
   "source": [
    "image_tensor , label  = test_dataset[9765]\n",
    "print(image_tensor.shape ,label )\n",
    "plt.imshow(image_tensor.reshape(28,28) , cmap=\"gray\")\n",
    "predict(image_tensor.reshape(28,28), model)"
   ]
  },
  {
   "cell_type": "code",
   "execution_count": 202,
   "metadata": {},
   "outputs": [
    {
     "data": {
      "text/plain": [
       "{'val_loss': 0.6118780374526978, 'val_acc': 0.8595082759857178}"
      ]
     },
     "execution_count": 202,
     "metadata": {},
     "output_type": "execute_result"
    }
   ],
   "source": [
    "test_loader =  DataLoader(test_dataset , batch_size=128)\n",
    "result = evaluate(model , test_loader)\n",
    "result"
   ]
  },
  {
   "cell_type": "code",
   "execution_count": 203,
   "metadata": {},
   "outputs": [],
   "source": [
    "torch.save(model.state_dict(), \"mnist-logistic.pth\")"
   ]
  },
  {
   "cell_type": "code",
   "execution_count": 208,
   "metadata": {},
   "outputs": [
    {
     "data": {
      "text/plain": [
       "{'val_loss': 2.3255608081817627, 'val_acc': 0.08930236846208572}"
      ]
     },
     "execution_count": 208,
     "metadata": {},
     "output_type": "execute_result"
    }
   ],
   "source": [
    "model2 = MnistModel()\n",
    "evaluate(model2,test_loader)"
   ]
  },
  {
   "cell_type": "code",
   "execution_count": 209,
   "metadata": {},
   "outputs": [
    {
     "data": {
      "text/plain": [
       "{'val_loss': 0.6118780374526978, 'val_acc': 0.8595082759857178}"
      ]
     },
     "execution_count": 209,
     "metadata": {},
     "output_type": "execute_result"
    }
   ],
   "source": [
    "model2.load_state_dict(torch.load(\"mnist-logistic.pth\"))\n",
    "evaluate(model2,test_loader)"
   ]
  },
  {
   "cell_type": "markdown",
   "metadata": {},
   "source": []
  },
  {
   "cell_type": "code",
   "execution_count": null,
   "metadata": {},
   "outputs": [],
   "source": []
  }
 ],
 "metadata": {
  "kernelspec": {
   "display_name": "tf",
   "language": "python",
   "name": "python3"
  },
  "language_info": {
   "codemirror_mode": {
    "name": "ipython",
    "version": 3
   },
   "file_extension": ".py",
   "mimetype": "text/x-python",
   "name": "python",
   "nbconvert_exporter": "python",
   "pygments_lexer": "ipython3",
   "version": "3.9.19"
  }
 },
 "nbformat": 4,
 "nbformat_minor": 2
}
